{
  "nbformat": 4,
  "nbformat_minor": 0,
  "metadata": {
    "colab": {
      "name": "TeleWeather.ipynb",
      "provenance": [],
      "collapsed_sections": []
    },
    "kernelspec": {
      "name": "python3",
      "display_name": "Python 3"
    }
  },
  "cells": [
    {
      "cell_type": "code",
      "metadata": {
        "id": "xBYgvEhj48AA",
        "colab": {
          "base_uri": "https://localhost:8080/"
        },
        "outputId": "a1885ac3-ec98-43e2-c81e-e024531e9051"
      },
      "source": [
        "!pip install requests\n",
        "!pip install pyTelegramBotAPI\n",
        "import requests\n",
        "import telebot"
      ],
      "execution_count": null,
      "outputs": [
        {
          "output_type": "stream",
          "text": [
            "Requirement already satisfied: requests in /usr/local/lib/python3.6/dist-packages (2.23.0)\n",
            "Requirement already satisfied: urllib3!=1.25.0,!=1.25.1,<1.26,>=1.21.1 in /usr/local/lib/python3.6/dist-packages (from requests) (1.24.3)\n",
            "Requirement already satisfied: idna<3,>=2.5 in /usr/local/lib/python3.6/dist-packages (from requests) (2.10)\n",
            "Requirement already satisfied: certifi>=2017.4.17 in /usr/local/lib/python3.6/dist-packages (from requests) (2020.12.5)\n",
            "Requirement already satisfied: chardet<4,>=3.0.2 in /usr/local/lib/python3.6/dist-packages (from requests) (3.0.4)\n",
            "Requirement already satisfied: pyTelegramBotAPI in /usr/local/lib/python3.6/dist-packages (3.7.4)\n",
            "Requirement already satisfied: requests in /usr/local/lib/python3.6/dist-packages (from pyTelegramBotAPI) (2.23.0)\n",
            "Requirement already satisfied: certifi>=2017.4.17 in /usr/local/lib/python3.6/dist-packages (from requests->pyTelegramBotAPI) (2020.12.5)\n",
            "Requirement already satisfied: urllib3!=1.25.0,!=1.25.1,<1.26,>=1.21.1 in /usr/local/lib/python3.6/dist-packages (from requests->pyTelegramBotAPI) (1.24.3)\n",
            "Requirement already satisfied: idna<3,>=2.5 in /usr/local/lib/python3.6/dist-packages (from requests->pyTelegramBotAPI) (2.10)\n",
            "Requirement already satisfied: chardet<4,>=3.0.2 in /usr/local/lib/python3.6/dist-packages (from requests->pyTelegramBotAPI) (3.0.4)\n"
          ],
          "name": "stdout"
        }
      ]
    },
    {
      "cell_type": "code",
      "metadata": {
        "id": "PFCnAaH6fWhB"
      },
      "source": [
        "url = 'http://api.openweathermap.org/data/2.5/weather'\n",
        "api_weather = '4e7e7b9a3211985b75f046d1e55b870e'\n",
        "api_telegram = '1272021345:AAEk8pnNi-awkLiQ_x1crIdP0GhE6O33t_8'\n",
        "\n",
        "#\"lat\":48.7194,\"lon\":44.5018,\"country\":\"RU\"\n",
        "#https://api.openweathermap.org/data/2.5/onecall/timemachine?lat=48.7194&lon=44.5018&dt=1608742487&appid=4e7e7b9a3211985b75f046d1e55b870e\n",
        "bot = telebot.TeleBot(api_telegram)\n",
        "\n",
        "@bot.message_handler(commands=['start'])\n",
        "def welcome(message):\n",
        "  #sti = open('welcome.png', 'rb')\n",
        "  #bot.send_sticker(message.chat.id) #,sti\n",
        "  bot.send_message(message.chat.id, 'Добро пожаловать, ' + str(message.from_user.username) + ',' + '\\n' +\n",
        "  'Напиши мне название твоего города а я тебе информацию о погоде в твоем городе!')\n",
        "\n",
        "\n",
        "\n",
        "@bot.message_handler(content_types=['text'])\n",
        "def weather_send(message):\n",
        "  #dateVchara = -1\n",
        "  #dateSegodna = 0 \n",
        "  #'dt': dateSegodna+86400,\n",
        "  s_city = message.text\n",
        "\n",
        "  try:\n",
        "    #if(date = zav )\n",
        "    params = {'APPID': api_weather, 'q': s_city, 'dt':+121604801, 'units': 'metric'}\n",
        "    \n",
        "    result = requests.get(url, params=params)\n",
        "    weather = result.json()\n",
        "    \n",
        "\n",
        "    bot.send_message(message.chat.id, \"В городе \" + str(weather[\"name\"]) + \" температура \" + str(float(weather[\"main\"]['temp'])) + \"\\n\" + \n",
        "    \"Максимальная температура \" + str(float(weather['main']['temp_max'])) + \"\\n\" + \n",
        "    \"дата\" + str(weather['dt']) + \"\\n\" + \n",
        "    \"Минимальная температура \" + str(float(weather['main']['temp_min'])) + \"\\n\" + \n",
        "    \"Скорость ветра \" + str(float(weather['wind']['speed'])) + \"\\n\" + \n",
        "    \"Давление \" + str(float(weather['main']['pressure'])) + \"\\n\" + \n",
        "    \"Влажность \" + str(float(weather['main']['humidity'])) + \"\\n\" + \n",
        "    \"Видимость \" + str(weather['visibility']) + \"метров\"+ \"\\n\" + \n",
        "    \"Описание \" + str(weather['weather'][0][\"description\"]) + \"\\n\")\n",
        "\n",
        "    if weather[\"main\"]['temp'] < 10:\n",
        "      bot.send_message(message.chat.id, \"Сейчас холодно!\")\n",
        "    elif weather[\"main\"]['temp'] < 20:\n",
        "      bot.send_message(message.chat.id, \"Сейчас прохладно!\")\n",
        "    elif weather[\"main\"]['temp'] > 38:\n",
        "      bot.send_message(message.chat.id, \"Сейчас жарко!\")\n",
        "    else:\n",
        "      bot.send_message(message.chat.id, \"Сейчас отличная температура!\")\n",
        "\n",
        "  except:\n",
        "    bot.send_message(message.chat.id, \"Город \" + s_city + \" не найден\")\n",
        "\n",
        "\n",
        "if __name__ == '__main__':\n",
        "  bot.polling(none_stop=True)"
      ],
      "execution_count": null,
      "outputs": []
    }
  ]
}